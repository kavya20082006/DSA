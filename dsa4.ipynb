{
  "nbformat": 4,
  "nbformat_minor": 0,
  "metadata": {
    "colab": {
      "provenance": [],
      "authorship_tag": "ABX9TyNtw0vDfrWGam8vmZKe7lDl",
      "include_colab_link": true
    },
    "kernelspec": {
      "name": "python3",
      "display_name": "Python 3"
    },
    "language_info": {
      "name": "python"
    }
  },
  "cells": [
    {
      "cell_type": "markdown",
      "metadata": {
        "id": "view-in-github",
        "colab_type": "text"
      },
      "source": [
        "<a href=\"https://colab.research.google.com/github/kavya20082006/DSA/blob/main/dsa4.ipynb\" target=\"_parent\"><img src=\"https://colab.research.google.com/assets/colab-badge.svg\" alt=\"Open In Colab\"/></a>"
      ]
    },
    {
      "source": [
        "#you are working on a project to create an efficient search functionallity for a large dataset in an e-comnmerce platform. the platform needs to allow users to search for producta based on their names.Design a python program that implements both linear and binary search algorithm to search for product.\n",
        "\n",
        "class Product:\n",
        "  def __init__(self, name, price):\n",
        "    self.name = name\n",
        "    self.price = price\n",
        "\n",
        "\n",
        "  def linear_search(dataset,target):\n",
        "    for i, product in enumerate(dataset):\n",
        "      if product.name==target:\n",
        "        return i\n",
        "    return -1\n",
        "  def binary_search(dataset,target):\n",
        "   low,high=0,len(dataset)-1\n",
        "   while low<=high:\n",
        "     mid=(low+high)//2\n",
        "     mid_product=dataset[mid].name\n",
        "     if mid_product==target:\n",
        "       return mid\n",
        "     elif mid_product<target:\n",
        "       low=mid+1\n",
        "     else:\n",
        "        high=mid-1\n",
        "   return -1\n",
        "if __name__==\"__main__\":\n",
        "  dataset=[Product('Product1',10.99),\n",
        "           Product('Product2',24.99),\n",
        "           Product('Product3',34.99),\n",
        "           Product('Product4',14.99),\n",
        "           Product('Product5',19.99),]\n",
        "  target_product='Product3'\n",
        "  linear_result=Product.linear_search(dataset,target_product)\n",
        "  if linear_result!=-1:\n",
        "    print(f'linear found at index {linear_result}')\n",
        "  else:\n",
        "     print('Product not found')\n",
        "  dataset.sort (key=lambda x:x.name)\n",
        "  binary_result=Product.binary_search(dataset,target_product)\n",
        "  if binary_result!=-1:\n",
        "    print(f'binary found at index {binary_result}')\n",
        "  else:\n",
        "    print('Product not found')\n"
      ],
      "cell_type": "code",
      "metadata": {
        "colab": {
          "base_uri": "https://localhost:8080/"
        },
        "id": "Qp4px0JwHcLg",
        "outputId": "7dfeddb8-7d78-4591-dc8a-950873d97c09"
      },
      "execution_count": 11,
      "outputs": [
        {
          "output_type": "stream",
          "name": "stdout",
          "text": [
            "linear found at index 2\n",
            "binary found at index 2\n"
          ]
        }
      ]
    }
  ]
}