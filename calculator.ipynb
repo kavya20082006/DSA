{
  "nbformat": 4,
  "nbformat_minor": 0,
  "metadata": {
    "colab": {
      "provenance": [],
      "authorship_tag": "ABX9TyOUy/37ch7aPBNusLWsl5cP",
      "include_colab_link": true
    },
    "kernelspec": {
      "name": "python3",
      "display_name": "Python 3"
    },
    "language_info": {
      "name": "python"
    }
  },
  "cells": [
    {
      "cell_type": "markdown",
      "metadata": {
        "id": "view-in-github",
        "colab_type": "text"
      },
      "source": [
        "<a href=\"https://colab.research.google.com/github/kavya20082006/DSA/blob/main/calculator.ipynb\" target=\"_parent\"><img src=\"https://colab.research.google.com/assets/colab-badge.svg\" alt=\"Open In Colab\"/></a>"
      ]
    },
    {
      "source": [
        "class Stack:\n",
        "    def __init__(self): # Changed _init_ to __init__\n",
        "        self.items = []\n",
        "\n",
        "    def push(self, item):\n",
        "        self.items.append(item)\n",
        "\n",
        "    def pop(self):\n",
        "        if not self.is_empty():\n",
        "            return self.items.pop()\n",
        "        else:\n",
        "            raise IndexError(\"pop from empty stack\")\n",
        "\n",
        "    def peek(self):\n",
        "        if not self.is_empty():\n",
        "            return self.items[-1]\n",
        "        else:\n",
        "            return None\n",
        "\n",
        "    def is_empty(self):\n",
        "        return len(self.items) == 0\n",
        "\n",
        "    def size(self):\n",
        "        return len(self.items)\n",
        "def precedence(operator):\n",
        "    if operator == '+' or operator == '-':\n",
        "        return 1\n",
        "    elif operator == '*' or operator == '/':\n",
        "        return 2\n",
        "    else:\n",
        "        return 0\n",
        "\n",
        "def apply_operator(operand1, operand2, operator):\n",
        "    if operator == '+':\n",
        "        return operand1 + operand2\n",
        "    elif operator == '-':\n",
        "        return operand1 - operand2\n",
        "    elif operator == '*':\n",
        "        return operand1 * operand2\n",
        "    elif operator == '/':\n",
        "        if operand2 == 0:\n",
        "            raise ValueError(\"Division by zero\")\n",
        "        return operand1 / operand2\n",
        "\n",
        "def infix_to_postfix(expression):\n",
        "    stack = Stack()\n",
        "    postfix = []\n",
        "    operators = {'+', '-', '*', '/'}\n",
        "\n",
        "    tokens = expression.split()\n",
        "\n",
        "    for token in tokens:\n",
        "        if token.isdigit():\n",
        "            postfix.append(token)\n",
        "        elif token == '(':\n",
        "            stack.push(token)\n",
        "        elif token == ')':\n",
        "            while not stack.is_empty() and stack.peek() != '(':\n",
        "                postfix.append(stack.pop())\n",
        "            stack.pop()  # Discard '('\n",
        "        elif token in operators:\n",
        "            while not stack.is_empty() and precedence(stack.peek()) >= precedence(token):\n",
        "                postfix.append(stack.pop())\n",
        "            stack.push(token)\n",
        "        else:\n",
        "            raise ValueError(\"Invalid character in expression\")\n",
        "\n",
        "    while not stack.is_empty():\n",
        "        postfix.append(stack.pop())\n",
        "\n",
        "    return ' '.join(postfix)\n",
        "\n",
        "def evaluate_postfix(expression):\n",
        "    stack = Stack()\n",
        "\n",
        "    tokens = expression.split()\n",
        "\n",
        "    for token in tokens:\n",
        "        if token.isdigit():\n",
        "            stack.push(int(token))\n",
        "        elif token in {'+', '-', '*', '/'}:\n",
        "            operand2 = stack.pop()\n",
        "            operand1 = stack.pop()\n",
        "            result = apply_operator(operand1, operand2, token)\n",
        "            stack.push(result)\n",
        "\n",
        "    return stack.pop()\n",
        "\n",
        "# Example usage\n",
        "expression_infix = input(\"Enter a mathematical expression in infix notation or postfix notation: \")\n",
        "expression_postfix = infix_to_postfix(expression_infix)\n",
        "result = evaluate_postfix(expression_postfix)\n",
        "print(\"Result:\", result)"
      ],
      "cell_type": "code",
      "metadata": {
        "colab": {
          "base_uri": "https://localhost:8080/"
        },
        "id": "XpzFx6eMsTrc",
        "outputId": "5ff7bd2d-e311-45e7-fbab-e5671237aa8a"
      },
      "execution_count": 33,
      "outputs": [
        {
          "output_type": "stream",
          "name": "stdout",
          "text": [
            "Enter a mathematical expression in infix notation or postfix notation: 5 7 - 89 + 3\n",
            "Result: -79\n"
          ]
        }
      ]
    }
  ]
}