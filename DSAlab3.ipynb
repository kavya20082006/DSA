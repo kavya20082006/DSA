{
  "nbformat": 4,
  "nbformat_minor": 0,
  "metadata": {
    "colab": {
      "provenance": [],
      "authorship_tag": "ABX9TyMDh6Iqn92aory+HXoXIfRt",
      "include_colab_link": true
    },
    "kernelspec": {
      "name": "python3",
      "display_name": "Python 3"
    },
    "language_info": {
      "name": "python"
    }
  },
  "cells": [
    {
      "cell_type": "markdown",
      "metadata": {
        "id": "view-in-github",
        "colab_type": "text"
      },
      "source": [
        "<a href=\"https://colab.research.google.com/github/kavya20082006/DSA/blob/main/DSAlab3.ipynb\" target=\"_parent\"><img src=\"https://colab.research.google.com/assets/colab-badge.svg\" alt=\"Open In Colab\"/></a>"
      ]
    },
    {
      "cell_type": "code",
      "source": [
        "class Ticket:\n",
        "    def __init__(self, customer_name, issue, priority):  # Fixed constructor method name\n",
        "        self.customer_name = customer_name\n",
        "        self.issue = issue\n",
        "        self.priority = priority\n",
        "\n",
        "class TicketSystem:\n",
        "    def __init__(self):  # Fixed constructor method name\n",
        "        self.ticket_queue = []\n",
        "\n",
        "    def submit_ticket(self, customer_name, issue, priority):\n",
        "        ticket = Ticket(customer_name, issue, priority)\n",
        "        self.ticket_queue.append(ticket)\n",
        "\n",
        "    def process_ticket(self):\n",
        "        if not self.ticket_queue:\n",
        "            print(\"No tickets to process\")\n",
        "            return\n",
        "\n",
        "        ticket = self.ticket_queue.pop(0)\n",
        "        print(f\"Processing ticket from {ticket.customer_name}: {ticket.issue}\")\n",
        "\n",
        "    def display_ticket(self):\n",
        "        if not self.ticket_queue:\n",
        "            print(\"No tickets to process\")\n",
        "            return\n",
        "\n",
        "        print(\"Current tickets in the queue:\")\n",
        "        for ticket in self.ticket_queue:\n",
        "            print(f\"Customer: {ticket.customer_name}, Issue: {ticket.issue}, Priority: {ticket.priority}\")  # Corrected the print statement\n",
        "\n",
        "ticketing_system = TicketSystem()\n",
        "\n",
        "while True:\n",
        "    print(\"\\nTicketing System Menu:\")\n",
        "    print(\"1. Submit a ticket\")\n",
        "    print(\"2. Process a ticket\")\n",
        "    print(\"3. Display current tickets\")\n",
        "    print(\"4. Exit\")\n",
        "\n",
        "    choice = input(\"Enter your choice: \")\n",
        "\n",
        "    if choice == \"1\":\n",
        "        customer_name = input(\"Enter your name: \")\n",
        "        issue = input(\"Enter your issue: \")\n",
        "        priority = input(\"Enter the priority (low, medium, high): \")\n",
        "        ticketing_system.submit_ticket(customer_name, issue, priority)\n",
        "\n",
        "    elif choice == \"2\":\n",
        "        ticketing_system.process_ticket()\n",
        "\n",
        "    elif choice == \"3\":\n",
        "        ticketing_system.display_ticket()\n",
        "\n",
        "    elif choice == \"4\":\n",
        "        print(\"Exiting...\")\n",
        "        break\n",
        "    else:\n",
        "        print(\"Invalid choice. Please choose again.\")\n"
      ],
      "metadata": {
        "colab": {
          "base_uri": "https://localhost:8080/"
        },
        "id": "L0CKWoBNqM0p",
        "outputId": "48b13eae-a018-473e-e9e7-9d1d66d83295"
      },
      "execution_count": 16,
      "outputs": [
        {
          "output_type": "stream",
          "name": "stdout",
          "text": [
            "\n",
            "Ticketing System Menu:\n",
            "1. Submit a ticket\n",
            "2. Process a ticket\n",
            "3. Display current tickets\n",
            "4. Exit\n",
            "Enter your choice: 1\n",
            "Enter your name: Kavya \n",
            "Enter your issue: internet down\n",
            "Enter the priority (low, medium, high): high\n",
            "\n",
            "Ticketing System Menu:\n",
            "1. Submit a ticket\n",
            "2. Process a ticket\n",
            "3. Display current tickets\n",
            "4. Exit\n",
            "Enter your choice: 2\n",
            "Processing ticket from Kavya : internet down\n",
            "\n",
            "Ticketing System Menu:\n",
            "1. Submit a ticket\n",
            "2. Process a ticket\n",
            "3. Display current tickets\n",
            "4. Exit\n",
            "Enter your choice: 2\n",
            "No tickets to process\n",
            "\n",
            "Ticketing System Menu:\n",
            "1. Submit a ticket\n",
            "2. Process a ticket\n",
            "3. Display current tickets\n",
            "4. Exit\n",
            "Enter your choice: 3\n",
            "No tickets to process\n",
            "\n",
            "Ticketing System Menu:\n",
            "1. Submit a ticket\n",
            "2. Process a ticket\n",
            "3. Display current tickets\n",
            "4. Exit\n",
            "Enter your choice: 4\n",
            "Exiting...\n"
          ]
        }
      ]
    }
  ]
}