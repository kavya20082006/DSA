{
  "nbformat": 4,
  "nbformat_minor": 0,
  "metadata": {
    "colab": {
      "provenance": []
    },
    "kernelspec": {
      "name": "python3",
      "display_name": "Python 3"
    },
    "language_info": {
      "name": "python"
    }
  },
  "cells": [
    {
      "source": [
        "class Student:\n",
        "    def __init__(self, name, student_id, grades):\n",
        "        self.name = name\n",
        "        self.student_id = student_id\n",
        "        self.grades = grades\n",
        "        self.next = None  # Pointer to the next student in the list\n",
        "\n",
        "    def calculate_gpa(self):\n",
        "        if not self.grades:\n",
        "            return 0.0\n",
        "        total_points = sum(self.grades.values())\n",
        "        return round(total_points / len(self.grades), 2)\n",
        "\n",
        "\n",
        "class StudentList:\n",
        "    def __init__(self):\n",
        "        self.head = None  # Head of the linked list\n",
        "\n",
        "    def add_student(self, name, student_id, grades):\n",
        "        new_student = Student(name, student_id, grades)\n",
        "        new_student.next = self.head  # Insert at the beginning\n",
        "        self.head = new_student\n",
        "\n",
        "    def display_students(self):\n",
        "        if not self.head:\n",
        "            print(\"No students in the list.\")\n",
        "            return\n",
        "        current = self.head\n",
        "        while current:\n",
        "            print(f\"Name: {current.name}, ID: {current.student_id}, Grades: {current.grades}, GPA: {current.calculate_gpa()}\")\n",
        "            current = current.next\n",
        "\n",
        "    def calculate_average_gpa(self):\n",
        "        total_gpa = 0\n",
        "        total_students = 0\n",
        "        current = self.head\n",
        "        while current:\n",
        "            total_gpa += current.calculate_gpa()\n",
        "            total_students += 1\n",
        "            current = current.next\n",
        "        if total_students == 0:\n",
        "            return 0.0  # Avoid division by zero\n",
        "        return round(total_gpa / total_students, 2)\n",
        "    def get_gpa_grade(self):\n",
        "        average_gpa = self.calculate_average_gpa()\n",
        "        if average_gpa >= 3.7:\n",
        "            return 'A'\n",
        "        elif 3.0 <= average_gpa < 3.7:\n",
        "            return 'B'\n",
        "        elif 2.0 <= average_gpa < 3.0:\n",
        "            return 'C'\n",
        "\n",
        "        elif 1.0 <= average_gpa < 2.0:\n",
        "            return 'D'\n",
        "        else:\n",
        "            return 'F'\n",
        "\n",
        "\n",
        "# Example Usage\n",
        "if __name__ == \"__main__\":\n",
        "    student_list = StudentList()\n",
        "\n",
        "    # Add students\n",
        "    student_list.add_student(\"Alice\", \"A001\", {\"Math\": 3.5, \"Science\": 3.8, \"English\": 3.7})\n",
        "    student_list.add_student(\"Bob\", \"A002\", {\"Math\": 3.9, \"Science\": 4.0, \"English\": 3.8})\n",
        "    student_list.add_student(\"Charlie\", \"A003\", {\"Math\": 2.5, \"Science\": 2.8, \"English\": 2.7})\n",
        "\n",
        "    # Display students and GPA\n",
        "    print(\"List of Students:\")\n",
        "    student_list.display_students()\n",
        "\n",
        "    # Calculate and display average GPA\n",
        "    gpa_grade = student_list.get_gpa_grade()\n",
        "    print(f\"\\overall class gpa grade: {gpa_grade}\")"
      ],
      "cell_type": "code",
      "metadata": {
        "colab": {
          "base_uri": "https://localhost:8080/"
        },
        "id": "p2okaVVnQhdM",
        "outputId": "c88c6165-e77a-42de-b83f-85d64d995bf3"
      },
      "execution_count": null,
      "outputs": [
        {
          "output_type": "stream",
          "name": "stdout",
          "text": [
            "List of Students:\n",
            "Name: Charlie, ID: A003, Grades: {'Math': 2.5, 'Science': 2.8, 'English': 2.7}, GPA: 2.67\n",
            "Name: Bob, ID: A002, Grades: {'Math': 3.9, 'Science': 4.0, 'English': 3.8}, GPA: 3.9\n",
            "Name: Alice, ID: A001, Grades: {'Math': 3.5, 'Science': 3.8, 'English': 3.7}, GPA: 3.67\n",
            "\\overall class gpa grade: B\n"
          ]
        }
      ]
    }
  ]
}